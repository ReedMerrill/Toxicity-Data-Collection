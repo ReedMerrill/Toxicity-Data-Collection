{
 "cells": [
  {
   "cell_type": "code",
   "execution_count": 22,
   "metadata": {},
   "outputs": [],
   "source": [
    "import praw\n",
    "import json\n",
    "\n",
    "# credentials\n",
    "CLIENT_ID = \"gB_we0e6sW9IK_Xjrw1szQ\"\n",
    "CLIENT_SECRET = \"6rDRP5Hfu6SykadFTDZ8BMi4zSQNUg\"\n",
    "PASSWORD = \"CmhtIf!rc-6ZmoJ\"\n",
    "USER_AGENT = \"Reed's politics scraper v1.0.0 (u/bewchacca-lacca)\"\n",
    "USERNAME = \"bewchacca-lacca\"\n",
    "\n",
    "# single sub for testing\n",
    "SEED_SUBREDDITS = ['democrat']\n",
    "\n",
    "def setup_access():\n",
    "    \"\"\"Create an instance for API access\"\"\"\n",
    "    instance = praw.Reddit(\n",
    "        client_id=CLIENT_ID,\n",
    "        client_secret=CLIENT_SECRET,\n",
    "        password=PASSWORD,\n",
    "        user_agent=USER_AGENT,\n",
    "        username=USERNAME)\n",
    "    return instance"
   ]
  },
  {
   "cell_type": "code",
   "execution_count": 23,
   "metadata": {},
   "outputs": [],
   "source": [
    "reddit = setup_access()\n",
    "\n",
    "def get_posts(subreddit_name, time_period, n_submissions):\n",
    "    \"\"\"Takes the name of a subreddit, a time period, and the desired number of submissions\n",
    "    and returns a list of the URLs of that subreddit's top posts.\n",
    "    \n",
    "    nb this is a separate function because doing so retains a list of the submissions, and parsing\n",
    "    each level of the user extraction process into its own function avoids messy function outputs\n",
    "    and is more efficient.\n",
    "    Returns: list of top post URLs\n",
    "    \"\"\"\n",
    "    \n",
    "    # create the generator\n",
    "    submission_generator = reddit.subreddit(subreddit_name).top(time_filter=time_period, limit=n_submissions)\n",
    "    # return generator outputs as a list\n",
    "    return [submission.id for submission in submission_generator]\n",
    "\n",
    "    \n",
    "def get_post_comments_ids(submission_id):\n",
    "    \"\"\"Takes a list of submission URLs and returns a (flattened) list of all its comments.\n",
    "    \"\"\"\n",
    "    # create a post instance\n",
    "    comments = reddit.submission(submission_id).comments\n",
    "    # replace_more() updates the comment forest by resolving instances of MoreComments\n",
    "    comments.replace_more()\n",
    "    # list flattens the comment forest to a simple list of comments, extracting all comment replies\n",
    "    return [comment.id for comment in comments.list()]\n",
    "\n",
    "\n",
    "# Example usage:\n",
    "subreddit_name = 'python'\n",
    "time_period = 'year'\n",
    "n_submissions = 1\n",
    "post_id_list = get_posts(subreddit_name, time_period, n_submissions)"
   ]
  },
  {
   "cell_type": "code",
   "execution_count": 24,
   "metadata": {},
   "outputs": [
    {
     "name": "stdout",
     "output_type": "stream",
     "text": [
      "['1434dxo']\n"
     ]
    }
   ],
   "source": [
    "print(post_id_list)"
   ]
  },
  {
   "cell_type": "code",
   "execution_count": 25,
   "metadata": {},
   "outputs": [
    {
     "name": "stdout",
     "output_type": "stream",
     "text": [
      "Raw object: ['jn7y22q', 'jn7ygz9', 'jn83qo3', 'jn7xsl2', 'jn7yjga', 'jn7z4t6', 'jn7ybal', 'jn7yora', 'jn7yvo1', 'jn7z4a3', 'jna8zgh', 'jn7z9rt', 'jn83fvb', 'jn84frj', 'jn85gv2', 'jn7ysp5', 'jn81tzr', 'jn82h2q', 'jn81hqj', 'jn82ezs', 'jn81ejp', 'jn82elc', 'jn82j5s', 'jn86d16', 'jn829vk', 'jn83bki', 'jn89iv7', 'jn87171', 'jn8la4w', 'jn9778h', 'jn98s8y', 'jn9ecli', 'jn88oov', 'jn86jry', 'jn86lt5', 'jn87lv4', 'jn88m3u', 'jn89udr', 'jn8b05c', 'jn8djxx', 'jn8ge4j', 'jn8glsp', 'jn91pvd', 'jn85h7t', 'jn858qp', 'jn886jk', 'jn82c6w', 'jn82srz', 'jn82w89', 'jn8f21n', 'jn8f4fd', 'jn8gjup', 'jn8glqa', 'jn8re6i', 'jn914xh', 'jn9gij6', 'jn9plc1', 'jnavxps', 'jnaxamx', 'jnayik9', 'jn8jt78', 'jn8h1te', 'jn8h255', 'jn8h8b1', 'jn8hoac', 'jn8hshv', 'jn8i34g', 'jn8lr6h', 'jn8lry7', 'jn8nfo7', 'jn8o2qn', 'jn8ov4v', 'jn859el', 'jn8cqzt', 'jn8g2h6', 'jn88z1v', 'jn8iku5', 'jn8lljd', 'jn8lncv', 'jn8lthb', 'jn8ms6h', 'jn8rdch', 'jn8ved5', 'jn92spx', 'jn8o2ko', 'jn8t7hc', 'jni2yrb', 'jn8jul9', 'jn8mu8s', 'jn8nrp1', 'jn8nyo9', 'jn8on2r', 'jn8pau1', 'jn8r0s6', 'jn8rlmk', 'jn8ru9d', 'jn8rxju', 'jn8s049', 'jn8s0j0', 'jn8s5bw', 'jn8t1mx', 'jn8uuib', 'jn8v8a4', 'jn8vlxd', 'jn8w3do', 'jn8w6qa', 'jn8wq2k', 'jn8x2yd', 'jn8ydvn', 'jn92obg', 'jn93e51', 'jn93mlc', 'jn9vtcd', 'jn9vw5u', 'jn9wcma', 'jn9xubo', 'jn9zxmp', 'jn8u453', 'jn9fk6s', 'jn8pdo1', 'jn873pd', 'jn8w7b5', 'jn8zkgf', 'jn91m7g', 'jn80hvf', 'jn8p5su', 'jn8j8bl', 'jn8m05z', 'jn921bj', 'jn96l61', 'jn96mi3', 'jn96z3f', 'jn9aeq4', 'jn9ahi0', 'jn9amqe', 'jn9bkv8', 'jn9by2r', 'jn9c2tc', 'jn9cen1', 'jn9d0bm', 'jn9dfme', 'jn9e5vb', 'jn9egxg', 'jn9elht', 'jn9f4q7', 'jn9f9gn', 'jn9fv1r', 'jn9fvfa', 'jn9gm09', 'jn9gv3p', 'jn9hpjd', 'jn9i9tw', 'jn9ij97', 'jn9jky1', 'jn9jnrl', 'jn9kpbe', 'jn9lv1d', 'jn9ot7c', 'jn9pcje', 'jn9rda9', 'jn9rrbj', 'jn9rtqz', 'jn9t4o0', 'jna1gjx', 'jna1u9r', 'jna384a', 'jna5e0n', 'jna5kvi', 'jna7pi9', 'jna7wwp', 'jna7zt8', 'jna8p2h', 'jnajanu', 'jnajelh', 'jnamj77', 'jnapdro', 'jnas96k', 'jnavclm', 'jnb0wss', 'jnb23ad', 'jnb4z1i', 'jnb5w2u', 'jnb8byt', 'jnb8u2u', 'jnbaswr', 'jnbbior', 'jnbhqjy', 'jnbixdm', 'jnbjjuo', 'jnbu7yv', 'jnbuf9s', 'jnbv346', 'jnbwhe8', 'jnbwv22', 'jnby7x9', 'jnbylf4', 'jnbzz9d', 'jnc49g9', 'jnc73he', 'jncci05', 'jnce2i5', 'jncghc6', 'jncjg3z', 'jnckjxk', 'jncshcf', 'jncu3h7', 'jncz6va', 'jnd6diz', 'jnd8krj', 'jndbhi0', 'jndrmcf', 'jnebi66', 'jnejlg3', 'jnepsfb', 'jnf6zpp', 'jnfbbfl', 'jng3yjm', 'jngi3tu', 'jnoaxr8', 'jnohm8w', 'jnp511h', 'jnpk4aa', 'jnsb914', 'jntamp9', 'jnu47h4', 'jodznkw', 'jn82tg8', 'jn85sg1', 'jn97w27', 'jn8vbeb', 'jn8je1s', 'jn9icog', 'jn8fts2', 'jn9nir0', 'jnb3d0c', 'jn8ydfj', 'jnb5js0', 'jnb7r3k', 'jnc9dq8', 'jnou0d8', 'jn9d9pz', 'jn9dacz', 'jn86fow', 'jna1mes', 'jnar4eh', 'jnb3l80', 'jnb66zn', 'jn9dbwi', 'jnmvvzj', 'jnqvxwo', 'jnhfwcw', 'jn9klhh', 'jn8lw6f', 'jn8cb41', 'jn8tdpb', 'jn9kd4k', 'jn9apab', 'jn8ykp4', 'jn9aeyk', 'jn9b5yn', 'jn9b2w6', 'jn9bn7y', 'jn9c298', 'jnb2u1b', 'jn8a00x', 'jn812tp', 'jn82cdb', 'jn82s9k', 'jn9lmjf', 'jnfsdlb', 'jn95xau', 'jnn7ju9', 'jn8d29h', 'jn9jz6y', 'jnhyd83', 'jnb6zmv', 'jn8uwez', 'jn9obfb', 'jncsjy4', 'jnfxqaa', 'jn912wa', 'jn9h5qz', 'jncsdee', 'jn9jvxx', 'jn9bqnr', 'jn9e2bm', 'jn9mxa9', 'jnb6l7n', 'jn81rk9', 'jn82kan', 'jn82vjd', 'jnfsrdf', 'jn8fci8', 'jnebeyo', 'jnfxrri', 'jnfxt8l', 'jnhs27q', 'jn9ki20', 'jn9ey3w', 'jn9q230', 'jnccqcp', 'jn88olc', 'jn8339o', 'jn836zo', 'jn8is2v', 'jnarh72', 'jnfxu3g', 'jnm06q2', 'jnabsxo', 'jnd0uxm', 'jn83f03', 'jn83mwm', 'jnbxzjc', 'jng91zt', 'jnmvcam', 'jnad6xv', 'jn8abua', 'jn85wk7', 'jn86ft1', 'jn84djz', 'jnbyg7h', 'jng9fte', 'jnb0gh2', 'jn85ckc', 'jnbzvuh', 'jngcgau', 'jnb3tdr', 'jngg3zv', 'jnbdvdx', 'jnbl07r', 'jnbm8a5']\n",
      "N Comments: 331\n",
      "{'_replies': [], '_submission': None, 'id': 'jn7y22q', '_reddit': <praw.reddit.Reddit object at 0x7606ec863eb0>, '_fetched': False}\n",
      "1434dxo\n",
      "<class 'str'>\n",
      "spuds_in_town\n"
     ]
    }
   ],
   "source": [
    "comments = get_post_comments_ids(post_id_list[0])\n",
    "\n",
    "print(f'Raw object: {comments}')\n",
    "print(f'N Comments: {len(comments)}')\n",
    "\n",
    "# get comment attributes\n",
    "print(vars(reddit.comment('jn7y22q')))\n",
    "\n",
    "# can get the submission data back from a comment instance\n",
    "print(reddit.comment('jn7y22q').submission)\n",
    "author = str(reddit.comment('jn7y22q').author)\n",
    "print(type(author))\n",
    "print(author)\n"
   ]
  }
 ],
 "metadata": {
  "kernelspec": {
   "display_name": "reddit-toxicity",
   "language": "python",
   "name": "python3"
  },
  "language_info": {
   "codemirror_mode": {
    "name": "ipython",
    "version": 3
   },
   "file_extension": ".py",
   "mimetype": "text/x-python",
   "name": "python",
   "nbconvert_exporter": "python",
   "pygments_lexer": "ipython3",
   "version": "3.10.13"
  }
 },
 "nbformat": 4,
 "nbformat_minor": 2
}
